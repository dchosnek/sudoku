{
 "cells": [
  {
   "attachments": {},
   "cell_type": "markdown",
   "metadata": {},
   "source": [
    "# Sudoku solver using numpy"
   ]
  },
  {
   "cell_type": "code",
   "execution_count": null,
   "metadata": {},
   "outputs": [],
   "source": [
    "import numpy as np"
   ]
  },
  {
   "cell_type": "code",
   "execution_count": null,
   "metadata": {},
   "outputs": [],
   "source": [
    "# constants\n",
    "BOARD_SIZE = 9\n",
    "SECTOR_SIZE = 3\n",
    "VALID_VALUES = '123456789'"
   ]
  },
  {
   "attachments": {},
   "cell_type": "markdown",
   "metadata": {},
   "source": [
    "---\n",
    "\n",
    "## Helper functions\n",
    "\n",
    "### Numpy vectorized functions"
   ]
  },
  {
   "cell_type": "code",
   "execution_count": null,
   "metadata": {},
   "outputs": [],
   "source": [
    "\"\"\"Returns the length of the contents of each cell.\"\"\"\n",
    "get_length = np.vectorize(len)\n",
    "\n",
    "\"\"\"Looks for the specified pattern in each cell.\"\"\"\n",
    "cell_contains = np.vectorize(lambda x, y : y in x)\n",
    "\n",
    "\"\"\"Remove a specific string from every location in a numpy array.\"\"\"\n",
    "strip_string = np.vectorize(lambda x, y : x.replace(y,''))\n",
    "\n",
    "\"\"\"Remove every character of a pattern from every location in a\n",
    "numpy array unless that cell exactly matches the pattern.\"\"\"\n",
    "strip_pattern = np.vectorize(lambda x, y : x if x == y else ''.join([c for c in x if c not in y]))"
   ]
  },
  {
   "attachments": {},
   "cell_type": "markdown",
   "metadata": {},
   "source": [
    "### Generic helpers"
   ]
  },
  {
   "cell_type": "code",
   "execution_count": null,
   "metadata": {},
   "outputs": [],
   "source": [
    "def get_sector_by_number(arr, sector):\n",
    "    \"\"\"Returns one sector of an array by index between zero and BOARD_SIZE.\"\"\"\n",
    "    row = sector // SECTOR_SIZE * SECTOR_SIZE\n",
    "    col = SECTOR_SIZE * (sector % SECTOR_SIZE)\n",
    "    return arr[row:row+SECTOR_SIZE,col:col+SECTOR_SIZE]\n",
    "\n",
    "\n",
    "def convert_sector_row(sector, row):\n",
    "    \"\"\"Returns the absolute row number when given a row number within a sector.\"\"\"\n",
    "    return sector // SECTOR_SIZE * SECTOR_SIZE + row\n",
    "\n",
    "\n",
    "def convert_sector_col(sector, col):\n",
    "    \"\"\"Returns the absolute column number when given a column number with a sector.\"\"\"\n",
    "    return (sector % SECTOR_SIZE) * SECTOR_SIZE + col\n",
    "\n",
    "\n",
    "def show_pretty_board(board):\n",
    "    \"\"\"Print a 1D board into a nice 2D grid. Use numpy.flatten() to convert to 1D array.\"\"\"\n",
    "    width = np.max(get_length(board)) + 2\n",
    "    line = '+' + '-'*(width*3) + '+' + '-'*(width*3) + '+' + '-'*(width*3) + '+'\n",
    "    for idx, cell in enumerate(board):\n",
    "        if not idx % 27:\n",
    "            print(line)\n",
    "        if not idx % 3:\n",
    "            print('|', end='')\n",
    "        print(F'{cell:^{width}s}', end='')\n",
    "        if not ((idx + 1) % 9):\n",
    "            print('|')\n",
    "    print(line)"
   ]
  },
  {
   "attachments": {},
   "cell_type": "markdown",
   "metadata": {},
   "source": [
    "### Algorithms"
   ]
  },
  {
   "cell_type": "code",
   "execution_count": null,
   "metadata": {},
   "outputs": [],
   "source": [
    "def clean_singletons(solved,wip):\n",
    "    \"\"\"Transfers all singletons from the WIP array to the final array, cleans\n",
    "    that singleton pattern from all neighbors, and returns the number of passes\n",
    "    performed on the WIP array. This will run until there are no singletons\n",
    "    left in the WIP array.\n",
    "    \n",
    "    Keyword arguments:\n",
    "    solved -- numpy array containing only solved elements\n",
    "    wip -- work in progress numpy array containing possible values for each cell\n",
    "    \"\"\"\n",
    "    sweep_counter = 0\n",
    "    coordinate_list = np.argwhere(get_length(wip)==1)\n",
    "    while coordinate_list.size:\n",
    "        sweep_counter += 1\n",
    "        for idc in coordinate_list:\n",
    "            row, col = idc\n",
    "            singleton = wip[row,col]\n",
    "            # update the solved array with the singleton value\n",
    "            solved[row,col] = singleton\n",
    "\n",
    "            # remove the singleton from every neighbor\n",
    "            wip[row,:] = strip_string(wip[row,:],singleton)\n",
    "            wip[:,col] = strip_string(wip[:,col],singleton)\n",
    "            # operate on the sector that the row and col belong to\n",
    "            r_start = row // SECTOR_SIZE * SECTOR_SIZE\n",
    "            c_start = col // SECTOR_SIZE * SECTOR_SIZE\n",
    "            r_end = r_start + SECTOR_SIZE\n",
    "            c_end = c_start + SECTOR_SIZE\n",
    "            wip[r_start:r_end,c_start:c_end] = strip_string(\n",
    "                wip[r_start:r_end,c_start:c_end],singleton\n",
    "            )\n",
    "\n",
    "        # check for more singletons\n",
    "        coordinate_list = np.argwhere(get_length(wip)==1)\n",
    "\n",
    "    # return the number of times the while loop executed\n",
    "    return sweep_counter"
   ]
  },
  {
   "cell_type": "code",
   "execution_count": null,
   "metadata": {},
   "outputs": [],
   "source": [
    "def identify_disguised_singletons(arr, discovered=0):\n",
    "    \"\"\"Sets any cells containing disguised singleton values to the actual singleton\n",
    "    value and returns the number of cells modified.\"\"\"\n",
    "    altered_coords = set({})\n",
    "    for val in '123456789':\n",
    "        # search every row\n",
    "        for idx in range(BOARD_SIZE):\n",
    "            if np.count_nonzero(cell_contains(arr[idx,:],val)) == 1:\n",
    "                col = np.argwhere(cell_contains(arr[idx,:],val))[0][0]\n",
    "                arr[idx,col] = val\n",
    "                altered_coords.add((idx,col))\n",
    "\n",
    "        # search every column\n",
    "        for idx in range(BOARD_SIZE):\n",
    "            if np.count_nonzero(cell_contains(arr[:,idx],val)) == 1:\n",
    "                row = np.argwhere(cell_contains(arr[:,idx],val))[0][0]\n",
    "                arr[row,idx] = val\n",
    "                altered_coords.add((row,idx))\n",
    "\n",
    "        # search every sector\n",
    "        for idx in range(BOARD_SIZE):\n",
    "            if np.count_nonzero(cell_contains(get_sector_by_number(arr,idx),val)) == 1:\n",
    "                coords = np.argwhere(cell_contains(get_sector_by_number(arr,idx),val))\n",
    "                row = coords[0][0] + SECTOR_SIZE * (idx // SECTOR_SIZE)\n",
    "                col = coords[0][1] + SECTOR_SIZE * (idx % SECTOR_SIZE)\n",
    "                arr[row,col] = val\n",
    "                altered_coords.add((row,col))\n",
    "\n",
    "    if len(altered_coords) != discovered:\n",
    "        return identify_disguised_singletons(arr, len(altered_coords))\n",
    "    else:\n",
    "        return len(altered_coords)"
   ]
  },
  {
   "cell_type": "code",
   "execution_count": null,
   "metadata": {},
   "outputs": [],
   "source": [
    "def handle_rc_owners(arr):\n",
    "    \"\"\"Finds sector values that exist only in one row or only in one column and removes\n",
    "    that value from that row or column in other sectors. Returns the number of values\n",
    "    identified that can be considered owners of a row or column.\"\"\"\n",
    "    owner_count = 0\n",
    "    for idx in range(BOARD_SIZE):\n",
    "        for value in VALID_VALUES:\n",
    "            # get coordinates for all cells containing this value\n",
    "            coordinate_list = np.argwhere(cell_contains(get_sector_by_number(arr,idx), value))\n",
    "            # see if all these coordinates are in one row or one column\n",
    "            rows = set({})\n",
    "            cols = set({})\n",
    "            for coord in coordinate_list:\n",
    "                rows.add(coord[0])\n",
    "                cols.add(coord[1])\n",
    "\n",
    "            # if len(rows) is 1 then every {value} in the current sector is in one row\n",
    "            if len(rows) == 1:\n",
    "                owner_count += 1\n",
    "                actual_row = convert_sector_row(idx, coord[0])\n",
    "                actual_col_list = [convert_sector_col(idx, x) for x in cols]\n",
    "                numpy_iterator = np.nditer(arr[actual_row,:], flags=['multi_index'], op_flags=['readwrite'])\n",
    "                for cell in numpy_iterator:\n",
    "                    if numpy_iterator.multi_index[0] not in actual_col_list:\n",
    "                        cell[...] = str(cell).replace(value,'')\n",
    "            \n",
    "            # if len(cols) is 1 then every {value} in the current sector is in one column\n",
    "            if len(cols) == 1:\n",
    "                owner_count += 1\n",
    "                actual_col = convert_sector_col(idx, coord[1])\n",
    "                actual_row_list = [convert_sector_row(idx, x) for x in rows]\n",
    "                numpy_iterator = np.nditer(arr[:,actual_col], flags=['multi_index'], op_flags=['readwrite'])\n",
    "                for cell in numpy_iterator:\n",
    "                    if numpy_iterator.multi_index[0] not in actual_row_list:\n",
    "                        cell[...] = str(cell).replace(value,'')\n",
    "\n",
    "    return owner_count"
   ]
  },
  {
   "cell_type": "code",
   "execution_count": null,
   "metadata": {},
   "outputs": [],
   "source": [
    "def get_special_patterns(arr):\n",
    "    return_list = []\n",
    "    pattern_dict = dict()\n",
    "    numpy_iterator = np.nditer(arr, flags=['multi_index'], op_flags=['readwrite'])\n",
    "    for cell in numpy_iterator:\n",
    "        pattern_dict[str(cell)] = pattern_dict.get(str(cell),0) + 1\n",
    "    for k,v in pattern_dict.items():\n",
    "        if len(k) == v:\n",
    "            return_list.append(k)\n",
    "    return return_list\n",
    "\n",
    "def handle_matching_patterns(arr):\n",
    "    patt_count = 0\n",
    "    for row in range(BOARD_SIZE):\n",
    "        for pattern in get_special_patterns(arr[row,:]):\n",
    "            strip_pattern(arr[row,:],pattern)\n",
    "            patt_count += 1\n",
    "    for col in range(BOARD_SIZE):\n",
    "        for pattern in get_special_patterns(arr[:,col]):\n",
    "            strip_pattern(arr[:,col],pattern)\n",
    "            patt_count += 1\n",
    "    for row in range(0,BOARD_SIZE,3):\n",
    "        for col in range(0,BOARD_SIZE,3):\n",
    "            for pattern in get_special_patterns(arr[row:row+SECTOR_SIZE,col:col+SECTOR_SIZE]):\n",
    "                strip_pattern(arr[row:row+SECTOR_SIZE,col:col+SECTOR_SIZE],pattern)\n",
    "                patt_count += 1\n",
    "    return patt_count"
   ]
  },
  {
   "attachments": {},
   "cell_type": "markdown",
   "metadata": {},
   "source": [
    "---\n",
    "\n",
    "## Load the puzzle\n",
    "\n",
    "Before the puzzle is imported, two 2D numpy arrays are created. Both are BOARD_SIZE x BOARD_SIZE (traditional Sudoku is 9x9). The arrays are:\n",
    "\n",
    "1. An array representing all \"solved\" cells is blank.\n",
    "2. An array representing the possible values for each cell. Before the puzzle is imported, every value is possible for every cell, so the array looks something like the table below (only the first sector is shown).\n",
    "\n",
    "| |  |  |  |\n",
    "|:------:|:------:|:------:|:------:|\n",
    "|  | 123456789 | 123456789 | 123456789 |\n",
    "|  | 123456789 | 123456789 | 123456789 |\n",
    "|  | 123456789 | 123456789 | 123456789 |\n",
    "\n",
    "When the puzzle is read in, the \"possible\" cell is overwritten by the value specified in the puzzle. Most cells will remain set to every value as shown below. In the example below, the puzzle specifies only one value for the first sector while the rest of the cells are blank (so every value is possible).\n",
    "\n",
    "| |  |  |  |\n",
    "|:------:|:------:|:------:|:------:|\n",
    "|  | 123456789 | 123456789 | 5 |\n",
    "|  | 123456789 | 123456789 | 123456789 |\n",
    "|  | 123456789 | 123456789 | 123456789 |\n",
    "\n"
   ]
  },
  {
   "cell_type": "code",
   "execution_count": null,
   "metadata": {},
   "outputs": [],
   "source": [
    "possible = np.full((9,9),'123456789')\n",
    "board = np.full((9,9),'')\n",
    "\n",
    "# hard\n",
    "puzzle = '2.......6.5..8..1...4...9...7.3.1......82.......7.5.3...9...4...8..1..5.6.......2'\n",
    "# easy\n",
    "puzzle = '5..98.67.6......31.2.613.4..968.21.7..8..5.9.7.319....962.7..1.1.5...76..7.5..9..'\n",
    "# medium\n",
    "puzzle = '.29.71..3..8...6..3...5....5.....97......4...4.75.8..1.6.42.3..2..9....6.916...52'\n",
    "# hard\n",
    "puzzle = '..791.5....1.....3..9.4...2.4...83.....3.1....6..5...8.2..9...5...........4.8..7.'\n",
    "# hardest ever\n",
    "# puzzle = '1....7.9..3..2...8..96..5....53..9...1..8...26....4...3......1..4......7..7...3..'\n",
    "# hard via sudoku.com\n",
    "# puzzle = '..5........24.1.7.3.4...56...............79848...9..1....2..1...9..7...2.183...4.'\n",
    "# expert via sudoku.com\n",
    "# puzzle = '.....2..3.4...16.7..1.....4.8.1.....43.....62...7..............6.98.73.....3.47..'\n",
    "\n",
    "\n",
    "for idx, value in enumerate(puzzle):\n",
    "    if value in VALID_VALUES:\n",
    "        row = idx // BOARD_SIZE\n",
    "        col = idx - row * BOARD_SIZE\n",
    "        possible[row,col] = value\n",
    "\n",
    "solved = len(np.argwhere(get_length(possible)==1))\n",
    "print(F\"Puzzle starts with {solved} solved locations.\")\n",
    "\n",
    "show_pretty_board(possible.flatten())"
   ]
  },
  {
   "attachments": {},
   "cell_type": "markdown",
   "metadata": {},
   "source": [
    "---\n",
    "\n",
    "## Solve the puzzle\n",
    "\n",
    "### Step 1: Handle singletons\n",
    "\n",
    "Look at every cell that has only one **possible** value. This is the only step that makes modifications to the actual board. Therefore, this will be the first and last steps of solving any puzzle.\n",
    "\n",
    "This cell calls a function that runs repeatedly until it cannot simplify the board any more."
   ]
  },
  {
   "cell_type": "code",
   "execution_count": null,
   "metadata": {},
   "outputs": [],
   "source": [
    "response = clean_singletons(board,possible)\n",
    "print(F\"Performed {response} singleton sweeps.\")\n",
    "\n",
    "locations = len(np.argwhere(get_length(board)==1))\n",
    "if locations == BOARD_SIZE**2:\n",
    "    print(\"Board has been solved!!!\")\n",
    "    show_pretty_board(board.flatten())\n",
    "else:\n",
    "    print(F\"Puzzle currently has {locations} solved locations.\")\n",
    "    show_pretty_board(board.flatten())\n",
    "    show_pretty_board(possible.flatten())"
   ]
  },
  {
   "attachments": {},
   "cell_type": "markdown",
   "metadata": {},
   "source": [
    "### Step 2: Identify disguised singletons"
   ]
  },
  {
   "cell_type": "code",
   "execution_count": null,
   "metadata": {},
   "outputs": [],
   "source": [
    "show_pretty_board(possible.flatten())\n",
    "disguised = identify_disguised_singletons(possible)\n",
    "print(F\"Located {disguised} disguised singletons.\")\n",
    "_ = clean_singletons(board, possible)\n",
    "show_pretty_board(possible.flatten())"
   ]
  },
  {
   "attachments": {},
   "cell_type": "markdown",
   "metadata": {},
   "source": [
    "### Step 3: Handle row and column owners"
   ]
  },
  {
   "cell_type": "code",
   "execution_count": null,
   "metadata": {},
   "outputs": [],
   "source": [
    "response = clean_singletons(board,possible)\n",
    "print(F\"Performed {response} singleton sweeps.\")\n",
    "\n",
    "show_pretty_board(possible.flatten())\n",
    "response = handle_rc_owners(possible)\n",
    "show_pretty_board(possible.flatten())\n",
    "print(F\"Identified {response} row and/or column owners.\")"
   ]
  },
  {
   "attachments": {},
   "cell_type": "markdown",
   "metadata": {},
   "source": [
    "### Step 4: Handle matching patterns"
   ]
  },
  {
   "cell_type": "code",
   "execution_count": null,
   "metadata": {},
   "outputs": [],
   "source": [
    "_ = clean_singletons(board,possible)\n",
    "show_pretty_board(possible.flatten())\n",
    "response = handle_matching_patterns(possible)\n",
    "show_pretty_board(possible.flatten())\n",
    "print(F\"Cleaned {response} patterns.\")"
   ]
  },
  {
   "attachments": {},
   "cell_type": "markdown",
   "metadata": {},
   "source": [
    "\n",
    "|   |   |   |   |   |   |   |   |   |\n",
    "| --- | --- | --- | --- | --- | --- | --- | --- | --- |\n",
    "| `123` <br> `456` <br> `789` | `123` <br> `456` <br> `789` | `123` <br> `456` <br> `789` | `123` <br> `456` <br> `789` | `123` <br> `456` <br> `789` | `123` <br> `456` <br> `789` | `123` <br> `456` <br> `789` | `123` <br> `456` <br> `789` | `123` <br> `456` <br> `789` | \n",
    "| `123` <br> `456` <br> `789` | `123` <br> `456` <br> `789` | `123` <br> `456` <br> `789` | `123` <br> `456` <br> `789` | `123` <br> `456` <br> `789` | `123` <br> `456` <br> `789` | `123` <br> `456` <br> `789` | `123` <br> `456` <br> `789` | `123` <br> `456` <br> `789` | \n",
    "| `123` <br> `456` <br> `789` | `123` <br> `456` <br> `789` | `123` <br> `456` <br> `789` | `123` <br> `456` <br> `789` | `123` <br> `456` <br> `789` | `123` <br> `456` <br> `789` | `123` <br> `456` <br> `789` | `123` <br> `456` <br> `789` | `123` <br> `456` <br> `789` | \n",
    "| `123` <br> `456` <br> `789` | `123` <br> `456` <br> `789` | `123` <br> `456` <br> `789` | `123` <br> `456` <br> `789` | `123` <br> `456` <br> `789` | `123` <br> `456` <br> `789` | `123` <br> `456` <br> `789` | `123` <br> `456` <br> `789` | `123` <br> `456` <br> `789` | \n",
    "| `123` <br> `456` <br> `789` | `123` <br> `456` <br> `789` | `123` <br> `456` <br> `789` | `123` <br> `456` <br> `789` | `123` <br> `456` <br> `789` | `123` <br> `456` <br> `789` | `123` <br> `456` <br> `789` | `123` <br> `456` <br> `789` | `123` <br> `456` <br> `789` | \n",
    "| `123` <br> `456` <br> `789` | `123` <br> `456` <br> `789` | `123` <br> `456` <br> `789` | `123` <br> `456` <br> `789` | `123` <br> `456` <br> `789` | `123` <br> `456` <br> `789` | `123` <br> `456` <br> `789` | `123` <br> `456` <br> `789` | `123` <br> `456` <br> `789` | \n",
    "| `123` <br> `456` <br> `789` | `123` <br> `456` <br> `789` | `123` <br> `456` <br> `789` | `123` <br> `456` <br> `789` | `123` <br> `456` <br> `789` | `123` <br> `456` <br> `789` | `123` <br> `456` <br> `789` | `123` <br> `456` <br> `789` | `123` <br> `456` <br> `789` | \n",
    "| `123` <br> `456` <br> `789` | `123` <br> `456` <br> `789` | `123` <br> `456` <br> `789` | `123` <br> `456` <br> `789` | `123` <br> `456` <br> `789` | `123` <br> `456` <br> `789` | `123` <br> `456` <br> `789` | `123` <br> `456` <br> `789` | `123` <br> `456` <br> `789` | \n",
    "| `123` <br> `456` <br> `789` | `123` <br> `456` <br> `789` | `123` <br> `456` <br> `789` | `123` <br> `456` <br> `789` | `123` <br> `456` <br> `789` | `123` <br> `456` <br> `789` | `123` <br> `456` <br> `789` | `123` <br> `456` <br> `789` | `123` <br> `456` <br> `789` | \n",
    "\n",
    "\n"
   ]
  },
  {
   "attachments": {},
   "cell_type": "markdown",
   "metadata": {},
   "source": [
    "---\n",
    "\n",
    "## Test the board"
   ]
  },
  {
   "cell_type": "code",
   "execution_count": null,
   "metadata": {},
   "outputs": [],
   "source": [
    "def board_valid(arr):\n",
    "    \"\"\"Returns true if the board is solved and also displays error messages\n",
    "    if it is not solved correctly.\"\"\"\n",
    "    flag = True\n",
    "    for pattern in '123456789':\n",
    "        for idx in range(BOARD_SIZE):\n",
    "            if np.count_nonzero(cell_contains(board[idx,:],pattern)) != 1:\n",
    "                count = np.count_nonzero(cell_contains(board[idx,:],pattern))\n",
    "                print(F\"There are {count} instances of '{pattern}' in zero-based row {idx}.\")\n",
    "                flag = False\n",
    "            if np.count_nonzero(cell_contains(board[:,idx],pattern)) != 1:\n",
    "                count = np.count_nonzero(cell_contains(board[:,idx],pattern))\n",
    "                print(F\"There are {count} instances of '{pattern}' in zero-based column {idx}.\")\n",
    "                flag = False\n",
    "            if np.count_nonzero(cell_contains(get_sector_by_number(board,idx),pattern)) != 1:\n",
    "                count = np.count_nonzero(cell_contains(get_sector_by_number(board,idx),pattern))\n",
    "                print(F\"There are {count} instances of '{pattern}' in zero-based sector {idx}.\")\n",
    "                flag = False\n",
    "    return flag\n",
    "\n",
    "show_pretty_board(board.flatten())\n",
    "if board_valid(board):\n",
    "    print(\"Solved!\")\n",
    "else:\n",
    "    print(\"ERROR!\")"
   ]
  }
 ],
 "metadata": {
  "kernelspec": {
   "display_name": "comp642",
   "language": "python",
   "name": "python3"
  },
  "language_info": {
   "codemirror_mode": {
    "name": "ipython",
    "version": 3
   },
   "file_extension": ".py",
   "mimetype": "text/x-python",
   "name": "python",
   "nbconvert_exporter": "python",
   "pygments_lexer": "ipython3",
   "version": "3.9.9"
  },
  "orig_nbformat": 4
 },
 "nbformat": 4,
 "nbformat_minor": 2
}
