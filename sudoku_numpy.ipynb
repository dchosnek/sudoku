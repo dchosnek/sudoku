{
 "cells": [
  {
   "cell_type": "code",
   "execution_count": 2,
   "metadata": {},
   "outputs": [],
   "source": [
    "import numpy as np\n",
    "import re"
   ]
  },
  {
   "cell_type": "code",
   "execution_count": 3,
   "metadata": {},
   "outputs": [],
   "source": [
    "# constants\n",
    "BOARD_SIZE = 9\n",
    "SECTOR_SIZE = 3\n",
    "VALID_VALUES = '123456789'"
   ]
  },
  {
   "attachments": {},
   "cell_type": "markdown",
   "metadata": {},
   "source": [
    "### Numpy vectorized functions"
   ]
  },
  {
   "cell_type": "code",
   "execution_count": 4,
   "metadata": {},
   "outputs": [],
   "source": [
    "get_length = np.vectorize(len)\n",
    "\n",
    "cell_contains = np.vectorize(lambda x, y : y in x)\n",
    "\n",
    "strip_pattern = np.vectorize(lambda x, y : str(x).replace(y,''))"
   ]
  },
  {
   "attachments": {},
   "cell_type": "markdown",
   "metadata": {},
   "source": [
    "---\n",
    "\n",
    "### Helper functions"
   ]
  },
  {
   "cell_type": "code",
   "execution_count": 28,
   "metadata": {},
   "outputs": [],
   "source": [
    "def remove_value(arr, pattern):\n",
    "    numpy_iterator = np.nditer(arr, flags=['multi_index', 'refs_ok'], op_flags=['readwrite'])\n",
    "    for val in pattern:\n",
    "        for cell in numpy_iterator:\n",
    "            if str(cell) != pattern:\n",
    "                cell[...] = str(cell).replace(val,'')\n",
    "\n",
    "def get_sector_by_number(arr, sector):\n",
    "    row = sector // SECTOR_SIZE * SECTOR_SIZE\n",
    "    col = SECTOR_SIZE * (sector % SECTOR_SIZE)\n",
    "    return arr[row:row+SECTOR_SIZE,col:col+SECTOR_SIZE]\n",
    "\n",
    "def get_sector_by_coord(arr, row, col):\n",
    "    r_start = row // SECTOR_SIZE * SECTOR_SIZE\n",
    "    c_start = col // SECTOR_SIZE * SECTOR_SIZE\n",
    "    r_end = r_start + SECTOR_SIZE\n",
    "    c_end = c_start + SECTOR_SIZE\n",
    "    return arr[r_start:r_end,c_start:c_end]\n",
    "\n",
    "def update_neighbors(arr, row, col, val):\n",
    "    # operate on the specified row\n",
    "    remove_value(arr[row,:], val)\n",
    "    # operate on the specified column\n",
    "    remove_value(arr[:,col], val)\n",
    "\n",
    "    # operate on the sector that the row and col belong to\n",
    "    r_start = row // SECTOR_SIZE * SECTOR_SIZE\n",
    "    c_start = col // SECTOR_SIZE * SECTOR_SIZE\n",
    "    r_end = r_start + SECTOR_SIZE\n",
    "    c_end = c_start + SECTOR_SIZE\n",
    "    remove_value(arr[r_start:r_end,c_start:c_end], val)\n",
    "\n",
    "def pretty_flat(board):\n",
    "    width = np.max(get_length(board)) + 2\n",
    "    line = '+' + '-'*(width*3) + '+' + '-'*(width*3) + '+' + '-'*(width*3) + '+'\n",
    "    for idx, cell in enumerate(board):\n",
    "        if not idx % 27:\n",
    "            print(line)\n",
    "        if not idx % 3:\n",
    "            print('|', end='')\n",
    "        print(F'{cell:^{width}s}', end='')\n",
    "        if not ((idx + 1) % 9):\n",
    "            print('|')\n",
    "    print(line)\n",
    "\n",
    "# this will run recursively until there are no more singletons left\n",
    "# 'solved' is the final board and 'wip' is work in progress\n",
    "def clean_singletons(solved,wip):\n",
    "    clean_counter = 0\n",
    "    coordinate_list = np.argwhere(get_length(wip)==1)\n",
    "    while coordinate_list.size:\n",
    "        clean_counter += 1\n",
    "        for idc in coordinate_list:\n",
    "            row, col = idc\n",
    "            singleton = wip[row,col]\n",
    "            # update the solved array with the singleton value\n",
    "            solved[row,col] = singleton\n",
    "\n",
    "            # empty this cell in the wip as it has been solved\n",
    "            wip[row,col] = '' \n",
    "\n",
    "            # remove the singleton from every neighbor\n",
    "            update_neighbors(wip, row, col, singleton)\n",
    "\n",
    "        # check for more singletons\n",
    "        coordinate_list = np.argwhere(get_length(wip)==1)\n",
    "\n",
    "    return clean_counter\n",
    "\n",
    "def clean_disguised_singletons(arr):\n",
    "    altered_coords = set({})\n",
    "    for val in '123456789':\n",
    "        # search every row\n",
    "        for idx in range(BOARD_SIZE):\n",
    "            if np.count_nonzero(cell_contains(arr[idx,:],val)) == 1:\n",
    "                col = np.argwhere(cell_contains(arr[idx,:],val))[0][0]\n",
    "                arr[idx,col] = val\n",
    "                altered_coords.add((idx,col))\n",
    "\n",
    "        # search every column\n",
    "        for idx in range(BOARD_SIZE):\n",
    "            if np.count_nonzero(cell_contains(arr[:,idx],val)) == 1:\n",
    "                row = np.argwhere(cell_contains(arr[:,idx],val))[0][0]\n",
    "                arr[row,idx] = val\n",
    "                altered_coords.add((row,idx))\n",
    "\n",
    "        # search every sector\n",
    "        for idx in range(BOARD_SIZE):\n",
    "            if np.count_nonzero(cell_contains(get_sector_by_number(arr,idx),val)) == 1:\n",
    "                coords = np.argwhere(cell_contains(get_sector_by_number(arr,idx),val))\n",
    "                row = coords[0][0] + SECTOR_SIZE * (idx // SECTOR_SIZE)\n",
    "                col = coords[0][1] + SECTOR_SIZE * (idx % SECTOR_SIZE)\n",
    "                arr[row,col] = val\n",
    "                altered_coords.add((row,col))\n",
    "    return len(altered_coords)"
   ]
  },
  {
   "attachments": {},
   "cell_type": "markdown",
   "metadata": {},
   "source": [
    "---\n",
    "\n",
    "### Load the puzzle"
   ]
  },
  {
   "cell_type": "code",
   "execution_count": 7,
   "metadata": {},
   "outputs": [
    {
     "name": "stdout",
     "output_type": "stream",
     "text": [
      "Puzzle starts with 23 solved locations.\n",
      "+---------------------------------+---------------------------------+---------------------------------+\n",
      "| 123456789  123456789      7     |     9          1      123456789 |     5      123456789  123456789 |\n",
      "| 123456789  123456789      1     | 123456789  123456789  123456789 | 123456789  123456789      3     |\n",
      "| 123456789  123456789      9     | 123456789      4      123456789 | 123456789  123456789      2     |\n",
      "+---------------------------------+---------------------------------+---------------------------------+\n",
      "| 123456789      4      123456789 | 123456789  123456789      8     |     3      123456789  123456789 |\n",
      "| 123456789  123456789  123456789 |     3      123456789      1     | 123456789  123456789  123456789 |\n",
      "| 123456789      6      123456789 | 123456789      5      123456789 | 123456789  123456789      8     |\n",
      "+---------------------------------+---------------------------------+---------------------------------+\n",
      "| 123456789      2      123456789 | 123456789      9      123456789 | 123456789  123456789      5     |\n",
      "| 123456789  123456789  123456789 | 123456789  123456789  123456789 | 123456789  123456789  123456789 |\n",
      "| 123456789  123456789      4     | 123456789      8      123456789 | 123456789      7      123456789 |\n",
      "+---------------------------------+---------------------------------+---------------------------------+\n"
     ]
    }
   ],
   "source": [
    "possible = np.full((9,9),'123456789')\n",
    "board = np.full((9,9),'')\n",
    "\n",
    "# hard\n",
    "puzzle = re.sub('\\W','0','2.......6.5..8..1...4...9...7.3.1......82.......7.5.3...9...4...8..1..5.6.......2')\n",
    "# easy\n",
    "puzzle = re.sub('\\W','0','5..98.67.6......31.2.613.4..968.21.7..8..5.9.7.319....962.7..1.1.5...76..7.5..9..')\n",
    "# medium\n",
    "puzzle = re.sub('\\W','0','.29.71..3..8...6..3...5....5.....97......4...4.75.8..1.6.42.3..2..9....6.916...52')\n",
    "# hard\n",
    "puzzle = re.sub('\\W','0','..791.5....1.....3..9.4...2.4...83.....3.1....6..5...8.2..9...5...........4.8..7.')\n",
    "\n",
    "\n",
    "for idx, value in enumerate(puzzle):\n",
    "    if value != '0':\n",
    "        row = idx // BOARD_SIZE\n",
    "        col = idx - row * BOARD_SIZE\n",
    "        possible[row,col] = value\n",
    "\n",
    "solved = len(np.argwhere(get_length(np.array(list(re.sub('0','',puzzle))))==1))\n",
    "print(F\"Puzzle starts with {solved} solved locations.\")\n",
    "\n",
    "pretty_flat(possible.flatten())"
   ]
  },
  {
   "attachments": {},
   "cell_type": "markdown",
   "metadata": {},
   "source": [
    "---\n",
    "\n",
    "### Step 1: Handle singletons\n",
    "\n",
    "Look at every cell that has only one **possible** value. This is the only step that makes modifications to actual board. Therefore, this will be the first and last steps of solving any puzzle.\n",
    "\n",
    "This cell calls a function that runs repeatedly until it cannot simplify the board any more."
   ]
  },
  {
   "cell_type": "code",
   "execution_count": 24,
   "metadata": {},
   "outputs": [
    {
     "name": "stdout",
     "output_type": "stream",
     "text": [
      "Performed 0 singleton sweeps.\n",
      "Puzzle currently has 56 solved locations.\n",
      "+---------+---------+---------+\n",
      "| 2     7 | 9  1    | 5     4 |\n",
      "| 4     1 |         |       3 |\n",
      "| 6     9 |    4    |       2 |\n",
      "+---------+---------+---------+\n",
      "| 1  4  2 |       8 | 3  5  9 |\n",
      "| 5  9  8 | 3  2  1 | 6  4  7 |\n",
      "| 7  6  3 | 4  5  9 |       8 |\n",
      "+---------+---------+---------+\n",
      "| 8  2  6 | 1  9  7 | 4  3  5 |\n",
      "| 9  7  5 |    3    |       1 |\n",
      "| 3  1  4 |    8    |    7  6 |\n",
      "+---------+---------+---------+\n",
      "+---------------------+---------------------+---------------------+\n",
      "|         38          |                36   |         68          |\n",
      "|         58          | 25678   67     256  |  78     689         |\n",
      "|         358         |  578           35   |  178    18          |\n",
      "+---------------------+---------------------+---------------------+\n",
      "|                     |  67     67          |                     |\n",
      "|                     |                     |                     |\n",
      "|                     |                     |  12     12          |\n",
      "+---------------------+---------------------+---------------------+\n",
      "|                     |                     |                     |\n",
      "|                     |  26            246  |  28     28          |\n",
      "|                     |  25            25   |  29                 |\n",
      "+---------------------+---------------------+---------------------+\n"
     ]
    }
   ],
   "source": [
    "response = clean_singletons(board,possible)\n",
    "print(F\"Performed {response} singleton sweeps.\")\n",
    "\n",
    "locations = len(np.argwhere(get_length(board)==1))\n",
    "if locations == BOARD_SIZE**2:\n",
    "    print(\"Board has been solved!!!\")\n",
    "    pretty_flat(board.flatten())\n",
    "else:\n",
    "    print(F\"Puzzle currently has {locations} solved locations.\")\n",
    "    pretty_flat(board.flatten())\n",
    "    pretty_flat(possible.flatten())\n"
   ]
  },
  {
   "attachments": {},
   "cell_type": "markdown",
   "metadata": {},
   "source": [
    "---\n",
    "\n",
    "### Step 2: Handle disguised singletons"
   ]
  },
  {
   "cell_type": "code",
   "execution_count": 26,
   "metadata": {},
   "outputs": [
    {
     "name": "stdout",
     "output_type": "stream",
     "text": [
      "Located 0 disguised singletons.\n",
      "+------+------+------+\n",
      "|      |      |      |\n",
      "|      |      |      |\n",
      "|      |      |      |\n",
      "+------+------+------+\n",
      "|      |      |      |\n",
      "|      |      |      |\n",
      "|      |      |      |\n",
      "+------+------+------+\n",
      "|      |      |      |\n",
      "|      |      |      |\n",
      "|      |      |      |\n",
      "+------+------+------+\n",
      "+---------+---------+---------+\n",
      "| 2  8  7 | 9  1  3 | 5  6  4 |\n",
      "| 4  5  1 | 2  7  6 | 8  9  3 |\n",
      "| 6  3  9 | 8  4  5 | 7  1  2 |\n",
      "+---------+---------+---------+\n",
      "| 1  4  2 | 7  6  8 | 3  5  9 |\n",
      "| 5  9  8 | 3  2  1 | 6  4  7 |\n",
      "| 7  6  3 | 4  5  9 | 1  2  8 |\n",
      "+---------+---------+---------+\n",
      "| 8  2  6 | 1  9  7 | 4  3  5 |\n",
      "| 9  7  5 | 6  3  4 | 2  8  1 |\n",
      "| 3  1  4 | 5  8  2 | 9  7  6 |\n",
      "+---------+---------+---------+\n"
     ]
    }
   ],
   "source": [
    "response = clean_disguised_singletons(possible)\n",
    "print(F\"Located {response} disguised singletons.\")\n",
    "pretty_flat(possible.flatten())\n",
    "pretty_flat(board.flatten())\n",
    "_ = clean_singletons(board,possible)"
   ]
  },
  {
   "attachments": {},
   "cell_type": "markdown",
   "metadata": {},
   "source": [
    "---\n",
    "\n",
    "### Step 3: Handle matching patterns"
   ]
  },
  {
   "cell_type": "code",
   "execution_count": 22,
   "metadata": {},
   "outputs": [
    {
     "name": "stdout",
     "output_type": "stream",
     "text": [
      "row: ['67']\n",
      "row: ['12']\n",
      "col: ['24']\n",
      "col: ['9']\n",
      "sector: ['24']\n",
      "sector: ['67']\n",
      "sector: ['9', '12']\n",
      "sector: ['6']\n",
      "+---------------------+---------------------+---------------------+\n",
      "|  24     38          |                236  |         468    46   |\n",
      "|  24     58          | 25678   267   2567  | 46789  4689         |\n",
      "|         358         |  578           357  |  178    18          |\n",
      "+---------------------+---------------------+---------------------+\n",
      "|                     |  67     67          |          5      9   |\n",
      "|                     |          2          |  46     46     467  |\n",
      "|                     |                     |  12     12          |\n",
      "+---------------------+---------------------+---------------------+\n",
      "|                     |  17            47   |  14                 |\n",
      "|                     |  126           246  | 1248   1248    14   |\n",
      "|                     |  256           256  |  29             6   |\n",
      "+---------------------+---------------------+---------------------+\n",
      "+---------+---------+---------+\n",
      "|       7 | 9  1    | 5       |\n",
      "|       1 |         |       3 |\n",
      "| 6     9 |    4    |       2 |\n",
      "+---------+---------+---------+\n",
      "| 1  4  2 |       8 | 3       |\n",
      "| 5  9  8 | 3     1 |         |\n",
      "| 7  6  3 | 4  5  9 |       8 |\n",
      "+---------+---------+---------+\n",
      "| 8  2  6 |    9    |    3  5 |\n",
      "| 9  7  5 |    3    |         |\n",
      "| 3  1  4 |    8    |    7    |\n",
      "+---------+---------+---------+\n"
     ]
    }
   ],
   "source": [
    "def get_common_patterns(arr):\n",
    "    return_list = []\n",
    "    pattern_dict = dict()\n",
    "    numpy_iterator = np.nditer(arr, flags=['multi_index', 'refs_ok'], op_flags=['readwrite'])\n",
    "    for cell in numpy_iterator:\n",
    "        pattern_dict[str(cell)] = pattern_dict.get(str(cell),0) + 1\n",
    "    for k,v in pattern_dict.items():\n",
    "        if len(k) == v:\n",
    "            return_list.append(k)\n",
    "    return return_list\n",
    "\n",
    "def remove_pattern_from_group(arr, patterns):\n",
    "    for patt in patterns:\n",
    "        numpy_iterator = np.nditer(arr, flags=['multi_index', 'refs_ok'], op_flags=['readwrite'])\n",
    "        for cell in numpy_iterator:\n",
    "            if str(cell) != patt:\n",
    "                for val in list(patt):\n",
    "                    cell[...] = str(cell).replace(val,'')\n",
    "\n",
    "for row in range(BOARD_SIZE):\n",
    "    patterns = get_common_patterns(possible[row,:])\n",
    "    if len(patterns):\n",
    "        print(F\"row: {patterns}\")\n",
    "    remove_pattern_from_group(possible[row,:], patterns)\n",
    "for col in range(BOARD_SIZE):\n",
    "    patterns = get_common_patterns(possible[:,col])\n",
    "    if len(patterns):\n",
    "        print(F\"col: {patterns}\")\n",
    "    remove_pattern_from_group(possible[:,col], patterns)\n",
    "for row in range(0,BOARD_SIZE,3):\n",
    "    for col in range(0,BOARD_SIZE,3):\n",
    "        patterns = get_common_patterns(possible[row:row+SECTOR_SIZE,col:col+SECTOR_SIZE])\n",
    "        if len(patterns):\n",
    "            print(F\"sector: {patterns}\")\n",
    "        remove_pattern_from_group(possible[row:row+SECTOR_SIZE,col:col+SECTOR_SIZE], patterns)\n",
    "\n",
    "pretty_flat(possible.flatten())\n",
    "pretty_flat(board.flatten())\n",
    "_ = clean_singletons(board,possible)"
   ]
  },
  {
   "attachments": {},
   "cell_type": "markdown",
   "metadata": {},
   "source": [
    "---\n",
    "\n",
    "### Handle rare"
   ]
  },
  {
   "cell_type": "code",
   "execution_count": 27,
   "metadata": {},
   "outputs": [
    {
     "name": "stdout",
     "output_type": "stream",
     "text": [
      "+------+------+------+\n",
      "|      |      |      |\n",
      "|      |      |      |\n",
      "|      |      |      |\n",
      "+------+------+------+\n",
      "|      |      |      |\n",
      "|      |      |      |\n",
      "|      |      |      |\n",
      "+------+------+------+\n",
      "|      |      |      |\n",
      "|      |      |      |\n",
      "|      |      |      |\n",
      "+------+------+------+\n"
     ]
    }
   ],
   "source": [
    "def convert_sector_row(sector, row):\n",
    "    return sector // SECTOR_SIZE * SECTOR_SIZE + row\n",
    "\n",
    "def convert_sector_col(sector, col):\n",
    "    return (sector % SECTOR_SIZE) * SECTOR_SIZE + col\n",
    "\n",
    "def find_rare(arr):\n",
    "    # in each sector, look if there are any possible values that exist only in\n",
    "    # a row or column\n",
    "    for idx in range(BOARD_SIZE):\n",
    "        for value in VALID_VALUES:\n",
    "            # get coordinates for all cells containing this value\n",
    "            coordinate_list = np.argwhere(cell_contains(get_sector_by_number(arr,idx), value))\n",
    "            # see if all these coordinates are in one row or one column\n",
    "            rows = set({})\n",
    "            cols = set({})\n",
    "            for coord in coordinate_list:\n",
    "                rows.add(coord[0])\n",
    "                cols.add(coord[1])\n",
    "            if len(rows) == 1:\n",
    "                print(F\"Every {value} in sector {idx} is in one row: {convert_sector_row(idx,coord[0])}\")\n",
    "                actual_row = convert_sector_row(idx, coord[0])\n",
    "                actual_col_list = [convert_sector_col(idx, x) for x in cols]\n",
    "                numpy_iterator = np.nditer(arr[actual_row,:], flags=['multi_index', 'refs_ok'], op_flags=['readwrite'])\n",
    "                for cell in numpy_iterator:\n",
    "                    if numpy_iterator.multi_index[0] not in actual_col_list:\n",
    "                        cell[...] = str(cell).replace(value,'')\n",
    "                        # print(F\"replaced {value} in {numpy_iterator.multi_index}\")\n",
    "            if len(cols) == 1:\n",
    "                print(F\"Every {value} in sector {idx} is in one column: {convert_sector_col(idx,coord[1])}\")\n",
    "                actual_col = convert_sector_col(idx, coord[1])\n",
    "                actual_row_list = [convert_sector_row(idx, x) for x in rows]\n",
    "                numpy_iterator = np.nditer(arr[:,actual_col], flags=['multi_index', 'refs_ok'], op_flags=['readwrite'])\n",
    "                for cell in numpy_iterator:\n",
    "                    if numpy_iterator.multi_index[0] not in actual_row_list:\n",
    "                        cell[...] = str(cell).replace(value,'')\n",
    "                        # print(F\"replaced {value} in {numpy_iterator.multi_index}\")\n",
    "\n",
    "find_rare(possible)\n",
    "pretty_flat(possible.flatten())"
   ]
  },
  {
   "cell_type": "code",
   "execution_count": null,
   "metadata": {},
   "outputs": [],
   "source": []
  },
  {
   "attachments": {},
   "cell_type": "markdown",
   "metadata": {},
   "source": [
    "---\n",
    "\n",
    "### Test the board"
   ]
  },
  {
   "cell_type": "code",
   "execution_count": null,
   "metadata": {},
   "outputs": [],
   "source": [
    "pretty_flat"
   ]
  },
  {
   "cell_type": "code",
   "execution_count": 37,
   "metadata": {},
   "outputs": [
    {
     "data": {
      "text/plain": [
       "array([[1, 0],\n",
       "       [2, 0]])"
      ]
     },
     "execution_count": 37,
     "metadata": {},
     "output_type": "execute_result"
    }
   ],
   "source": [
    "coordinate_list = np.argwhere(cell_contains(get_sector_by_number(possible,2), '7'))"
   ]
  },
  {
   "cell_type": "code",
   "execution_count": 33,
   "metadata": {},
   "outputs": [
    {
     "data": {
      "text/plain": [
       "array([['', '468', '46'],\n",
       "       ['46789', '4689', ''],\n",
       "       ['1678', '168', '']], dtype='<U9')"
      ]
     },
     "execution_count": 33,
     "metadata": {},
     "output_type": "execute_result"
    }
   ],
   "source": [
    "get_sector_by_number(possible,2)"
   ]
  },
  {
   "cell_type": "code",
   "execution_count": null,
   "metadata": {},
   "outputs": [],
   "source": []
  }
 ],
 "metadata": {
  "kernelspec": {
   "display_name": "comp642",
   "language": "python",
   "name": "python3"
  },
  "language_info": {
   "codemirror_mode": {
    "name": "ipython",
    "version": 3
   },
   "file_extension": ".py",
   "mimetype": "text/x-python",
   "name": "python",
   "nbconvert_exporter": "python",
   "pygments_lexer": "ipython3",
   "version": "3.9.9"
  },
  "orig_nbformat": 4
 },
 "nbformat": 4,
 "nbformat_minor": 2
}
