{
 "cells": [
  {
   "cell_type": "code",
   "execution_count": 1,
   "metadata": {},
   "outputs": [],
   "source": [
    "import numpy as np\n",
    "import re"
   ]
  },
  {
   "cell_type": "code",
   "execution_count": 2,
   "metadata": {},
   "outputs": [],
   "source": [
    "# constants\n",
    "BOARD_SIZE = 9\n",
    "SECTOR_SIZE = 3"
   ]
  },
  {
   "attachments": {},
   "cell_type": "markdown",
   "metadata": {},
   "source": [
    "## Helper functions"
   ]
  },
  {
   "cell_type": "code",
   "execution_count": 49,
   "metadata": {},
   "outputs": [],
   "source": [
    "def remove_value(arr, pattern):\n",
    "    numpy_iterator = np.nditer(arr, flags=['multi_index', 'refs_ok'], op_flags=['readwrite'])\n",
    "    for val in pattern:\n",
    "        for cell in numpy_iterator:\n",
    "            if str(cell) != pattern:\n",
    "                cell[...] = str(cell).replace(val,'')\n",
    "\n",
    "def get_row(arr, coord):\n",
    "    return arr[coord[0],:]\n",
    "\n",
    "def get_col(arr, coord):\n",
    "    return arr[:,coord[1]]\n",
    "\n",
    "def get_sector(arr, sector):\n",
    "    row = sector // SECTOR_SIZE * SECTOR_SIZE\n",
    "    col = SECTOR_SIZE * (sector % SECTOR_SIZE)\n",
    "    return arr[row:row+SECTOR_SIZE,col:col+SECTOR_SIZE]\n",
    "\n",
    "def get_quad(arr, coord):\n",
    "    x_home = coord[0] // SECTOR_SIZE * SECTOR_SIZE\n",
    "    y_home = coord[1] // SECTOR_SIZE * SECTOR_SIZE\n",
    "    return arr[x_home:x_home+3,y_home:y_home+3]\n",
    "\n",
    "def update_neighbors(arr, coord, val):\n",
    "    remove_value(get_row(arr, coord), val)\n",
    "    remove_value(get_col(arr, coord), val)\n",
    "    remove_value(get_quad(arr, coord), val)\n",
    "\n",
    "def pretty_flat(board):\n",
    "    width = np.max(get_length(board)) + 2\n",
    "    line = '+' + '-'*(width*3) + '+' + '-'*(width*3) + '+' + '-'*(width*3) + '+'\n",
    "    for idx, cell in enumerate(board):\n",
    "        if not idx % 27:\n",
    "            print(line)\n",
    "        if not idx % 3:\n",
    "            print('|', end='')\n",
    "        print(F'{cell:^{width}s}', end='')\n",
    "        if not ((idx + 1) % 9):\n",
    "            print('|')\n",
    "    print(line)\n",
    "    \n",
    "get_length = np.vectorize(len)\n",
    "\n",
    "cell_contains = np.vectorize(lambda x, y : y in x)"
   ]
  },
  {
   "attachments": {},
   "cell_type": "markdown",
   "metadata": {},
   "source": [
    "---\n",
    "\n",
    "### Load the puzzle"
   ]
  },
  {
   "cell_type": "code",
   "execution_count": 132,
   "metadata": {},
   "outputs": [
    {
     "name": "stdout",
     "output_type": "stream",
     "text": [
      "Puzzle starts with 23 solved locations.\n",
      "+---------+---------+---------+\n",
      "|       7 | 9  1    | 5       |\n",
      "|       1 |         |       3 |\n",
      "|       9 |    4    |       2 |\n",
      "+---------+---------+---------+\n",
      "|    4    |       8 | 3       |\n",
      "|         | 3     1 |         |\n",
      "|    6    |    5    |       8 |\n",
      "+---------+---------+---------+\n",
      "|    2    |    9    |       5 |\n",
      "|         |         |         |\n",
      "|       4 |    8    |    7    |\n",
      "+---------+---------+---------+\n"
     ]
    }
   ],
   "source": [
    "possible = np.full((9,9),'123456789')\n",
    "board = np.full((9,9),'')\n",
    "\n",
    "# hard\n",
    "puzzle = re.sub('\\W','0','2.......6.5..8..1...4...9...7.3.1......82.......7.5.3...9...4...8..1..5.6.......2')\n",
    "# easy\n",
    "puzzle = re.sub('\\W','0','5..98.67.6......31.2.613.4..968.21.7..8..5.9.7.319....962.7..1.1.5...76..7.5..9..')\n",
    "# medium\n",
    "puzzle = re.sub('\\W','0','.29.71..3..8...6..3...5....5.....97......4...4.75.8..1.6.42.3..2..9....6.916...52')\n",
    "# hard\n",
    "puzzle = re.sub('\\W','0','..791.5....1.....3..9.4...2.4...83.....3.1....6..5...8.2..9...5...........4.8..7.')\n",
    "\n",
    "\n",
    "for idx, value in enumerate(puzzle):\n",
    "    if value != '0':\n",
    "        row = idx // BOARD_SIZE\n",
    "        col = idx - row * BOARD_SIZE\n",
    "        board[row,col] = value\n",
    "        possible[row,col] = value\n",
    "\n",
    "solved = len(np.argwhere(get_length(np.array(list(re.sub('0','',puzzle))))==1))\n",
    "print(F\"Puzzle starts with {solved} solved locations.\")\n",
    "\n",
    "pretty_flat(board.flatten())"
   ]
  },
  {
   "attachments": {},
   "cell_type": "markdown",
   "metadata": {},
   "source": [
    "---\n",
    "\n",
    "### Step 1: Handle solved cells\n",
    "\n",
    "Look at every cell that has only one **possible** value.\n",
    "\n",
    "Run this cell multiple times and watch the puzzle change."
   ]
  },
  {
   "cell_type": "code",
   "execution_count": 172,
   "metadata": {},
   "outputs": [
    {
     "name": "stdout",
     "output_type": "stream",
     "text": [
      "Puzzle currently has 79 solved locations.\n",
      "+---------+---------+---------+\n",
      "| 2  8  7 | 9  1  3 | 5  6  4 |\n",
      "| 4  5  1 |    7    | 9  9  3 |\n",
      "| 6  3  9 | 5  4  3 | 8  8  2 |\n",
      "+---------+---------+---------+\n",
      "| 1  4  5 | 7  2  8 | 3  9  6 |\n",
      "| 9  9  8 | 3  6  1 | 2  5  4 |\n",
      "| 7  6  2 | 4  5  9 | 7  1  8 |\n",
      "+---------+---------+---------+\n",
      "| 8  2  6 | 1  9  7 | 1  4  5 |\n",
      "| 5  7  6 | 2  3  4 | 2  2  9 |\n",
      "| 3  1  4 | 5  8  5 | 2  7  6 |\n",
      "+---------+---------+---------+\n"
     ]
    }
   ],
   "source": [
    "coordinate_list = np.argwhere(get_length(possible)==1)\n",
    "for idc in coordinate_list:\n",
    "    value = possible[idc[0], idc[1]]\n",
    "    coord = (idc[0], idc[1])\n",
    "    update_neighbors(possible, coord, value)\n",
    "    board[coord] = value\n",
    "    # empty this cell in the possible matrix as this cell has been solved\n",
    "    possible[coord] = ''\n",
    "\n",
    "solved = len(np.argwhere(get_length(board)==1))\n",
    "print(F\"Puzzle currently has {solved} solved locations.\")\n",
    "\n",
    "pretty_flat(board.flatten())"
   ]
  },
  {
   "attachments": {},
   "cell_type": "markdown",
   "metadata": {},
   "source": [
    "### Step 2: Handle cells with matching possibilities"
   ]
  },
  {
   "cell_type": "code",
   "execution_count": 174,
   "metadata": {},
   "outputs": [
    {
     "name": "stdout",
     "output_type": "stream",
     "text": [
      "+------------+------------+------------+\n",
      "|            |            |            |\n",
      "|            | 68      26 |            |\n",
      "|            |            |            |\n",
      "+------------+------------+------------+\n",
      "|            |            |            |\n",
      "|            |            |            |\n",
      "|            |            |            |\n",
      "+------------+------------+------------+\n",
      "|            |            |            |\n",
      "|            |            |            |\n",
      "|            |            |            |\n",
      "+------------+------------+------------+\n",
      "+---------+---------+---------+\n",
      "| 2  8  7 | 9  1  3 | 5  6  4 |\n",
      "| 4  5  1 |    7    | 9  9  3 |\n",
      "| 6  3  9 | 5  4  3 | 8  8  2 |\n",
      "+---------+---------+---------+\n",
      "| 1  4  5 | 7  2  8 | 3  9  6 |\n",
      "| 9  9  8 | 3  6  1 | 2  5  4 |\n",
      "| 7  6  2 | 4  5  9 | 7  1  8 |\n",
      "+---------+---------+---------+\n",
      "| 8  2  6 | 1  9  7 | 1  4  5 |\n",
      "| 5  7  6 | 2  3  4 | 2  2  9 |\n",
      "| 3  1  4 | 5  8  5 | 2  7  6 |\n",
      "+---------+---------+---------+\n"
     ]
    }
   ],
   "source": [
    "def get_common_patterns(arr):\n",
    "    return_list = []\n",
    "    pattern_dict = dict()\n",
    "    numpy_iterator = np.nditer(arr, flags=['multi_index', 'refs_ok'], op_flags=['readwrite'])\n",
    "    for cell in numpy_iterator:\n",
    "        pattern_dict[str(cell)] = pattern_dict.get(str(cell),0) + 1\n",
    "    for k,v in pattern_dict.items():\n",
    "        if len(k) == v:\n",
    "            return_list.append(k)\n",
    "    return return_list\n",
    "\n",
    "def remove_pattern_from_group(arr, patterns):\n",
    "    for patt in patterns:\n",
    "        numpy_iterator = np.nditer(arr, flags=['multi_index', 'refs_ok'], op_flags=['readwrite'])\n",
    "        for cell in numpy_iterator:\n",
    "            if str(cell) != patt:\n",
    "                for val in list(patt):\n",
    "                    cell[...] = str(cell).replace(val,'')\n",
    "\n",
    "for row in range(BOARD_SIZE):\n",
    "    patterns = get_common_patterns(possible[row,:])\n",
    "    remove_pattern_from_group(possible[row,:], patterns)\n",
    "for col in range(BOARD_SIZE):\n",
    "    patterns = get_common_patterns(possible[:,col])\n",
    "    remove_pattern_from_group(possible[:,col], patterns)\n",
    "for row in range(0,BOARD_SIZE,3):\n",
    "    for col in range(0,BOARD_SIZE,3):\n",
    "        patterns = get_common_patterns(possible[row:row+SECTOR_SIZE,col:col+SECTOR_SIZE])\n",
    "        remove_pattern_from_group(possible[row:row+SECTOR_SIZE,col:col+SECTOR_SIZE], patterns)\n",
    "\n",
    "pretty_flat(possible.flatten())\n",
    "pretty_flat(board.flatten())"
   ]
  },
  {
   "attachments": {},
   "cell_type": "markdown",
   "metadata": {},
   "source": [
    "### Step 3: Handle hidden"
   ]
  },
  {
   "cell_type": "code",
   "execution_count": 175,
   "metadata": {},
   "outputs": [
    {
     "name": "stdout",
     "output_type": "stream",
     "text": [
      "row 1 is a match with 2 at [1,[5]]\n"
     ]
    },
    {
     "ename": "TypeError",
     "evalue": "only integer scalar arrays can be converted to a scalar index",
     "output_type": "error",
     "traceback": [
      "\u001b[0;31m---------------------------------------------------------------------------\u001b[0m",
      "\u001b[0;31mTypeError\u001b[0m                                 Traceback (most recent call last)",
      "\u001b[1;32m/Users/dchosnek/Library/CloudStorage/Dropbox/code/sudoku/sudoku_numpy.ipynb Cell 12\u001b[0m in \u001b[0;36m<cell line: 1>\u001b[0;34m()\u001b[0m\n\u001b[1;32m      <a href='vscode-notebook-cell:/Users/dchosnek/Library/CloudStorage/Dropbox/code/sudoku/sudoku_numpy.ipynb#X25sZmlsZQ%3D%3D?line=4'>5</a>\u001b[0m         col \u001b[39m=\u001b[39m np\u001b[39m.\u001b[39margwhere(cell_contains(possible[idx,:],val))[\u001b[39m0\u001b[39m]\n\u001b[1;32m      <a href='vscode-notebook-cell:/Users/dchosnek/Library/CloudStorage/Dropbox/code/sudoku/sudoku_numpy.ipynb#X25sZmlsZQ%3D%3D?line=5'>6</a>\u001b[0m         \u001b[39mprint\u001b[39m(\u001b[39mF\u001b[39m\u001b[39m\"\u001b[39m\u001b[39mrow \u001b[39m\u001b[39m{\u001b[39;00midx\u001b[39m}\u001b[39;00m\u001b[39m is a match with \u001b[39m\u001b[39m{\u001b[39;00mval\u001b[39m}\u001b[39;00m\u001b[39m at [\u001b[39m\u001b[39m{\u001b[39;00midx\u001b[39m}\u001b[39;00m\u001b[39m,\u001b[39m\u001b[39m{\u001b[39;00mcol\u001b[39m}\u001b[39;00m\u001b[39m]\u001b[39m\u001b[39m\"\u001b[39m)\n\u001b[0;32m----> <a href='vscode-notebook-cell:/Users/dchosnek/Library/CloudStorage/Dropbox/code/sudoku/sudoku_numpy.ipynb#X25sZmlsZQ%3D%3D?line=6'>7</a>\u001b[0m         update_neighbors(possible, (idx,col), val)\n\u001b[1;32m      <a href='vscode-notebook-cell:/Users/dchosnek/Library/CloudStorage/Dropbox/code/sudoku/sudoku_numpy.ipynb#X25sZmlsZQ%3D%3D?line=7'>8</a>\u001b[0m         board[idx,col] \u001b[39m=\u001b[39m val\n\u001b[1;32m     <a href='vscode-notebook-cell:/Users/dchosnek/Library/CloudStorage/Dropbox/code/sudoku/sudoku_numpy.ipynb#X25sZmlsZQ%3D%3D?line=9'>10</a>\u001b[0m \u001b[39m# search every column\u001b[39;00m\n",
      "\u001b[1;32m/Users/dchosnek/Library/CloudStorage/Dropbox/code/sudoku/sudoku_numpy.ipynb Cell 12\u001b[0m in \u001b[0;36mupdate_neighbors\u001b[0;34m(arr, coord, val)\u001b[0m\n\u001b[1;32m     <a href='vscode-notebook-cell:/Users/dchosnek/Library/CloudStorage/Dropbox/code/sudoku/sudoku_numpy.ipynb#X25sZmlsZQ%3D%3D?line=24'>25</a>\u001b[0m remove_value(get_row(arr, coord), val)\n\u001b[1;32m     <a href='vscode-notebook-cell:/Users/dchosnek/Library/CloudStorage/Dropbox/code/sudoku/sudoku_numpy.ipynb#X25sZmlsZQ%3D%3D?line=25'>26</a>\u001b[0m remove_value(get_col(arr, coord), val)\n\u001b[0;32m---> <a href='vscode-notebook-cell:/Users/dchosnek/Library/CloudStorage/Dropbox/code/sudoku/sudoku_numpy.ipynb#X25sZmlsZQ%3D%3D?line=26'>27</a>\u001b[0m remove_value(get_quad(arr, coord), val)\n",
      "\u001b[1;32m/Users/dchosnek/Library/CloudStorage/Dropbox/code/sudoku/sudoku_numpy.ipynb Cell 12\u001b[0m in \u001b[0;36mget_quad\u001b[0;34m(arr, coord)\u001b[0m\n\u001b[1;32m     <a href='vscode-notebook-cell:/Users/dchosnek/Library/CloudStorage/Dropbox/code/sudoku/sudoku_numpy.ipynb#X25sZmlsZQ%3D%3D?line=19'>20</a>\u001b[0m x_home \u001b[39m=\u001b[39m coord[\u001b[39m0\u001b[39m] \u001b[39m/\u001b[39m\u001b[39m/\u001b[39m SECTOR_SIZE \u001b[39m*\u001b[39m SECTOR_SIZE\n\u001b[1;32m     <a href='vscode-notebook-cell:/Users/dchosnek/Library/CloudStorage/Dropbox/code/sudoku/sudoku_numpy.ipynb#X25sZmlsZQ%3D%3D?line=20'>21</a>\u001b[0m y_home \u001b[39m=\u001b[39m coord[\u001b[39m1\u001b[39m] \u001b[39m/\u001b[39m\u001b[39m/\u001b[39m SECTOR_SIZE \u001b[39m*\u001b[39m SECTOR_SIZE\n\u001b[0;32m---> <a href='vscode-notebook-cell:/Users/dchosnek/Library/CloudStorage/Dropbox/code/sudoku/sudoku_numpy.ipynb#X25sZmlsZQ%3D%3D?line=21'>22</a>\u001b[0m \u001b[39mreturn\u001b[39;00m arr[x_home:x_home\u001b[39m+\u001b[39;49m\u001b[39m3\u001b[39;49m,y_home:y_home\u001b[39m+\u001b[39;49m\u001b[39m3\u001b[39;49m]\n",
      "\u001b[0;31mTypeError\u001b[0m: only integer scalar arrays can be converted to a scalar index"
     ]
    }
   ],
   "source": [
    "for val in '123456789':\n",
    "    # search every row\n",
    "    for idx in range(BOARD_SIZE):\n",
    "        if np.count_nonzero(cell_contains(possible[idx,:],val)) == 1:\n",
    "            col = np.argwhere(cell_contains(possible[idx,:],val))[0]\n",
    "            print(F\"row {idx} is a match with {val} at [{idx},{col}]\")\n",
    "            update_neighbors(possible, (idx,col), val)\n",
    "            board[idx,col] = val\n",
    "\n",
    "    # search every column\n",
    "    for idx in range(BOARD_SIZE):\n",
    "        if np.count_nonzero(cell_contains(possible[:,idx],val)) == 1:\n",
    "            row = np.argwhere(cell_contains(possible[:,idx],val))[0][0]\n",
    "            print(F\"column {idx} is a match with {val} at [{row},{idx}]\")\n",
    "            update_neighbors(possible, (row,idx), val)\n",
    "            board[row,idx] = val\n",
    "\n",
    "    # search every sector\n",
    "    for idx in range(BOARD_SIZE):\n",
    "        if np.count_nonzero(cell_contains(get_sector(possible,idx),val)) == 1:\n",
    "            coords = np.argwhere(cell_contains(get_sector(possible,idx),val))\n",
    "            row = coords[0][0] + SECTOR_SIZE * (idx // SECTOR_SIZE)\n",
    "            col = coords[0][1] + SECTOR_SIZE * (idx % SECTOR_SIZE)\n",
    "            print(F\"sector {idx} is a match with {val} at [{row},{col}]\")\n",
    "            update_neighbors(possible, (row,col), val)\n",
    "            board[row,col] = val\n",
    "\n",
    "\n",
    "pretty_flat(possible.flatten())\n",
    "pretty_flat(board.flatten())"
   ]
  }
 ],
 "metadata": {
  "kernelspec": {
   "display_name": "comp642",
   "language": "python",
   "name": "python3"
  },
  "language_info": {
   "codemirror_mode": {
    "name": "ipython",
    "version": 3
   },
   "file_extension": ".py",
   "mimetype": "text/x-python",
   "name": "python",
   "nbconvert_exporter": "python",
   "pygments_lexer": "ipython3",
   "version": "3.9.9"
  },
  "orig_nbformat": 4
 },
 "nbformat": 4,
 "nbformat_minor": 2
}
