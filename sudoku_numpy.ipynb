{
 "cells": [
  {
   "cell_type": "code",
   "execution_count": 176,
   "metadata": {},
   "outputs": [],
   "source": [
    "import numpy as np\n",
    "import re"
   ]
  },
  {
   "cell_type": "code",
   "execution_count": 177,
   "metadata": {},
   "outputs": [],
   "source": [
    "# constants\n",
    "BOARD_SIZE = 9\n",
    "SECTOR_SIZE = 3"
   ]
  },
  {
   "attachments": {},
   "cell_type": "markdown",
   "metadata": {},
   "source": [
    "### Numpy vectorized functions"
   ]
  },
  {
   "cell_type": "code",
   "execution_count": null,
   "metadata": {},
   "outputs": [],
   "source": [
    "get_length = np.vectorize(len)\n",
    "\n",
    "cell_contains = np.vectorize(lambda x, y : y in x)"
   ]
  },
  {
   "attachments": {},
   "cell_type": "markdown",
   "metadata": {},
   "source": [
    "## Helper functions"
   ]
  },
  {
   "cell_type": "code",
   "execution_count": 326,
   "metadata": {},
   "outputs": [],
   "source": [
    "def remove_value(arr, pattern):\n",
    "    numpy_iterator = np.nditer(arr, flags=['multi_index', 'refs_ok'], op_flags=['readwrite'])\n",
    "    for val in pattern:\n",
    "        for cell in numpy_iterator:\n",
    "            if str(cell) != pattern:\n",
    "                cell[...] = str(cell).replace(val,'')\n",
    "\n",
    "def get_row(arr, coord):\n",
    "    return arr[coord[0],:]\n",
    "\n",
    "def get_col(arr, coord):\n",
    "    return arr[:,coord[1]]\n",
    "\n",
    "def get_sector(arr, sector):\n",
    "    row = sector // SECTOR_SIZE * SECTOR_SIZE\n",
    "    col = SECTOR_SIZE * (sector % SECTOR_SIZE)\n",
    "    return arr[row:row+SECTOR_SIZE,col:col+SECTOR_SIZE]\n",
    "\n",
    "def get_quad(arr, coord):\n",
    "    x_home = coord[0] // SECTOR_SIZE * SECTOR_SIZE\n",
    "    y_home = coord[1] // SECTOR_SIZE * SECTOR_SIZE\n",
    "    return arr[x_home:x_home+3,y_home:y_home+3]\n",
    "\n",
    "def update_neighbors(arr, coord, val):\n",
    "    remove_value(get_row(arr, coord), val)\n",
    "    remove_value(get_col(arr, coord), val)\n",
    "    remove_value(get_quad(arr, coord), val)\n",
    "\n",
    "def pretty_flat(board):\n",
    "    width = np.max(get_length(board)) + 2\n",
    "    line = '+' + '-'*(width*3) + '+' + '-'*(width*3) + '+' + '-'*(width*3) + '+'\n",
    "    for idx, cell in enumerate(board):\n",
    "        if not idx % 27:\n",
    "            print(line)\n",
    "        if not idx % 3:\n",
    "            print('|', end='')\n",
    "        print(F'{cell:^{width}s}', end='')\n",
    "        if not ((idx + 1) % 9):\n",
    "            print('|')\n",
    "    print(line)\n",
    "\n",
    "# this will run recursively until there are no more singletons left\n",
    "def clean_singletons(dest,source):\n",
    "    clean_counter = 0\n",
    "    coordinate_list = np.argwhere(get_length(source)==1)\n",
    "    while coordinate_list.size:\n",
    "        clean_counter += 1\n",
    "        for idc in coordinate_list:\n",
    "            singleton = source[idc[0], idc[1]]\n",
    "            row, col = idc\n",
    "            # update the destination with the singleton value\n",
    "            dest[row,col] = singleton\n",
    "\n",
    "            # empty this cell in the source as it has been solved\n",
    "            source[row,col] = '' \n",
    "\n",
    "            # remove the singleton from every neighbor\n",
    "            update_neighbors(source, (row,col), singleton)\n",
    "\n",
    "        # recursive call\n",
    "        coordinate_list = np.argwhere(get_length(source)==1)\n",
    "\n",
    "    return clean_counter\n",
    "\n",
    "def clean_disguised_singletons(arr):\n",
    "    altered_coords = set({})\n",
    "    for val in '123456789':\n",
    "        # search every row\n",
    "        for idx in range(BOARD_SIZE):\n",
    "            if np.count_nonzero(cell_contains(arr[idx,:],val)) == 1:\n",
    "                col = np.argwhere(cell_contains(arr[idx,:],val))[0][0]\n",
    "                arr[idx,col] = val\n",
    "                altered_coords.add((idx,col))\n",
    "\n",
    "        # search every column\n",
    "        for idx in range(BOARD_SIZE):\n",
    "            if np.count_nonzero(cell_contains(arr[:,idx],val)) == 1:\n",
    "                row = np.argwhere(cell_contains(arr[:,idx],val))[0][0]\n",
    "                arr[row,idx] = val\n",
    "                altered_coords.add((row,idx))\n",
    "\n",
    "        # search every sector\n",
    "        for idx in range(BOARD_SIZE):\n",
    "            if np.count_nonzero(cell_contains(get_sector(arr,idx),val)) == 1:\n",
    "                coords = np.argwhere(cell_contains(get_sector(arr,idx),val))\n",
    "                row = coords[0][0] + SECTOR_SIZE * (idx // SECTOR_SIZE)\n",
    "                col = coords[0][1] + SECTOR_SIZE * (idx % SECTOR_SIZE)\n",
    "                arr[row,col] = val\n",
    "                altered_coords.add((row,col))\n",
    "    return len(altered_coords)"
   ]
  },
  {
   "attachments": {},
   "cell_type": "markdown",
   "metadata": {},
   "source": [
    "---\n",
    "\n",
    "### Load the puzzle"
   ]
  },
  {
   "cell_type": "code",
   "execution_count": 365,
   "metadata": {},
   "outputs": [
    {
     "name": "stdout",
     "output_type": "stream",
     "text": [
      "Puzzle starts with 23 solved locations.\n",
      "+------+------+------+\n",
      "|      |      |      |\n",
      "|      |      |      |\n",
      "|      |      |      |\n",
      "+------+------+------+\n",
      "|      |      |      |\n",
      "|      |      |      |\n",
      "|      |      |      |\n",
      "+------+------+------+\n",
      "|      |      |      |\n",
      "|      |      |      |\n",
      "|      |      |      |\n",
      "+------+------+------+\n",
      "+---------------------------------+---------------------------------+---------------------------------+\n",
      "| 123456789  123456789      7     |     9          1      123456789 |     5      123456789  123456789 |\n",
      "| 123456789  123456789      1     | 123456789  123456789  123456789 | 123456789  123456789      3     |\n",
      "| 123456789  123456789      9     | 123456789      4      123456789 | 123456789  123456789      2     |\n",
      "+---------------------------------+---------------------------------+---------------------------------+\n",
      "| 123456789      4      123456789 | 123456789  123456789      8     |     3      123456789  123456789 |\n",
      "| 123456789  123456789  123456789 |     3      123456789      1     | 123456789  123456789  123456789 |\n",
      "| 123456789      6      123456789 | 123456789      5      123456789 | 123456789  123456789      8     |\n",
      "+---------------------------------+---------------------------------+---------------------------------+\n",
      "| 123456789      2      123456789 | 123456789      9      123456789 | 123456789  123456789      5     |\n",
      "| 123456789  123456789  123456789 | 123456789  123456789  123456789 | 123456789  123456789  123456789 |\n",
      "| 123456789  123456789      4     | 123456789      8      123456789 | 123456789      7      123456789 |\n",
      "+---------------------------------+---------------------------------+---------------------------------+\n"
     ]
    }
   ],
   "source": [
    "possible = np.full((9,9),'123456789')\n",
    "board = np.full((9,9),'')\n",
    "\n",
    "# hard\n",
    "puzzle = re.sub('\\W','0','2.......6.5..8..1...4...9...7.3.1......82.......7.5.3...9...4...8..1..5.6.......2')\n",
    "# easy\n",
    "puzzle = re.sub('\\W','0','5..98.67.6......31.2.613.4..968.21.7..8..5.9.7.319....962.7..1.1.5...76..7.5..9..')\n",
    "# medium\n",
    "puzzle = re.sub('\\W','0','.29.71..3..8...6..3...5....5.....97......4...4.75.8..1.6.42.3..2..9....6.916...52')\n",
    "# hard\n",
    "puzzle = re.sub('\\W','0','..791.5....1.....3..9.4...2.4...83.....3.1....6..5...8.2..9...5...........4.8..7.')\n",
    "\n",
    "\n",
    "for idx, value in enumerate(puzzle):\n",
    "    if value != '0':\n",
    "        row = idx // BOARD_SIZE\n",
    "        col = idx - row * BOARD_SIZE\n",
    "        possible[row,col] = value\n",
    "\n",
    "solved = len(np.argwhere(get_length(np.array(list(re.sub('0','',puzzle))))==1))\n",
    "print(F\"Puzzle starts with {solved} solved locations.\")\n",
    "\n",
    "pretty_flat(board.flatten())\n",
    "pretty_flat(possible.flatten())"
   ]
  },
  {
   "attachments": {},
   "cell_type": "markdown",
   "metadata": {},
   "source": [
    "---\n",
    "\n",
    "### Step 1: Handle singletons\n",
    "\n",
    "Look at every cell that has only one **possible** value. This is the only step that makes modifications to actual board. Therefore, this will be the first and last steps of solving any puzzle.\n",
    "\n",
    "This cell calls a function that runs repeatedly until it cannot simplify the board any more."
   ]
  },
  {
   "cell_type": "code",
   "execution_count": 383,
   "metadata": {},
   "outputs": [
    {
     "name": "stdout",
     "output_type": "stream",
     "text": [
      "Performed 0 singleton sweeps.\n",
      "Board has been solved!!!\n",
      "+---------+---------+---------+\n",
      "| 2  8  7 | 9  1  3 | 5  6  4 |\n",
      "| 4  5  1 | 2  7  6 | 8  9  3 |\n",
      "| 6  3  9 | 8  4  5 | 7  1  2 |\n",
      "+---------+---------+---------+\n",
      "| 1  4  2 | 7  6  8 | 3  5  9 |\n",
      "| 5  9  8 | 3  2  1 | 6  4  7 |\n",
      "| 7  6  3 | 4  5  9 | 1  2  8 |\n",
      "+---------+---------+---------+\n",
      "| 8  2  6 | 1  9  7 | 4  3  5 |\n",
      "| 9  7  5 | 6  3  4 | 2  8  1 |\n",
      "| 3  1  4 | 5  8  2 | 9  7  6 |\n",
      "+---------+---------+---------+\n"
     ]
    }
   ],
   "source": [
    "response = clean_singletons(board,possible)\n",
    "print(F\"Performed {response} singleton sweeps.\")\n",
    "\n",
    "locations = len(np.argwhere(get_length(board)==1))\n",
    "if locations == BOARD_SIZE**2:\n",
    "    print(\"Board has been solved!!!\")\n",
    "    pretty_flat(board.flatten())\n",
    "else:\n",
    "    print(F\"Puzzle currently has {locations} solved locations.\")\n",
    "    pretty_flat(board.flatten())\n",
    "    pretty_flat(possible.flatten())\n"
   ]
  },
  {
   "attachments": {},
   "cell_type": "markdown",
   "metadata": {},
   "source": [
    "---\n",
    "\n",
    "### Step 2: Handle disguised singletons"
   ]
  },
  {
   "cell_type": "code",
   "execution_count": 382,
   "metadata": {},
   "outputs": [
    {
     "name": "stdout",
     "output_type": "stream",
     "text": [
      "Located 0 disguised singletons.\n",
      "+------+------+------+\n",
      "|      |      |      |\n",
      "|      |      |      |\n",
      "|      |      |      |\n",
      "+------+------+------+\n",
      "|      |      |      |\n",
      "|      |      |      |\n",
      "|      |      |      |\n",
      "+------+------+------+\n",
      "|      |      |      |\n",
      "|      |      |      |\n",
      "|      |      |      |\n",
      "+------+------+------+\n",
      "+---------+---------+---------+\n",
      "| 2  8  7 | 9  1  3 | 5  6  4 |\n",
      "| 4  5  1 | 2  7  6 | 8  9  3 |\n",
      "| 6  3  9 | 8  4  5 | 7  1  2 |\n",
      "+---------+---------+---------+\n",
      "| 1  4  2 | 7  6  8 | 3  5  9 |\n",
      "| 5  9  8 | 3  2  1 | 6  4  7 |\n",
      "| 7  6  3 | 4  5  9 | 1  2  8 |\n",
      "+---------+---------+---------+\n",
      "| 8  2  6 | 1  9  7 | 4  3  5 |\n",
      "| 9  7  5 | 6  3  4 | 2  8  1 |\n",
      "| 3  1  4 | 5  8  2 | 9  7  6 |\n",
      "+---------+---------+---------+\n"
     ]
    },
    {
     "data": {
      "text/plain": [
       "0"
      ]
     },
     "execution_count": 382,
     "metadata": {},
     "output_type": "execute_result"
    }
   ],
   "source": [
    "response = clean_disguised_singletons(possible)\n",
    "print(F\"Located {response} disguised singletons.\")\n",
    "pretty_flat(possible.flatten())\n",
    "pretty_flat(board.flatten())\n",
    "clean_singletons(board,possible)"
   ]
  },
  {
   "attachments": {},
   "cell_type": "markdown",
   "metadata": {},
   "source": [
    "---\n",
    "\n",
    "### Step 3: Handle matching patterns"
   ]
  },
  {
   "cell_type": "code",
   "execution_count": 372,
   "metadata": {},
   "outputs": [
    {
     "name": "stdout",
     "output_type": "stream",
     "text": [
      "col: ['267']\n",
      "sector: ['267']\n",
      "+------------------------+------------------------+------------------------+\n",
      "| 23468     38           |                  236   |          468      46   |\n",
      "| 24568     58           | 25678    267     2567  | 46789    4689          |\n",
      "|  3568    358           |  5678            3567  |  1678    168           |\n",
      "+------------------------+------------------------+------------------------+\n",
      "| 12579             25   |  267     267           |         12569    1679  |\n",
      "| 25789    5789    258   |          267           | 24679   24569    4679  |\n",
      "|  127                   |                        |  127      12           |\n",
      "+------------------------+------------------------+------------------------+\n",
      "|  1678             68   |  167             467   |  1468                  |\n",
      "| 156789  15789    568   | 12567           24567  | 124689  124689   1469  |\n",
      "| 13569    1359          |  1256            256   |  1269            169   |\n",
      "+------------------------+------------------------+------------------------+\n",
      "+---------+---------+---------+\n",
      "|       7 | 9  1    | 5       |\n",
      "|       1 |         |       3 |\n",
      "|       9 |    4    |       2 |\n",
      "+---------+---------+---------+\n",
      "|    4    |       8 | 3       |\n",
      "|         | 3     1 |         |\n",
      "|    6  3 | 4  5  9 |       8 |\n",
      "+---------+---------+---------+\n",
      "|    2    |    9    |    3  5 |\n",
      "|         |    3    |         |\n",
      "|       4 |    8    |    7    |\n",
      "+---------+---------+---------+\n"
     ]
    },
    {
     "data": {
      "text/plain": [
       "0"
      ]
     },
     "execution_count": 372,
     "metadata": {},
     "output_type": "execute_result"
    }
   ],
   "source": [
    "def get_common_patterns(arr):\n",
    "    return_list = []\n",
    "    pattern_dict = dict()\n",
    "    numpy_iterator = np.nditer(arr, flags=['multi_index', 'refs_ok'], op_flags=['readwrite'])\n",
    "    for cell in numpy_iterator:\n",
    "        pattern_dict[str(cell)] = pattern_dict.get(str(cell),0) + 1\n",
    "    for k,v in pattern_dict.items():\n",
    "        if len(k) == v:\n",
    "            return_list.append(k)\n",
    "    return return_list\n",
    "\n",
    "def remove_pattern_from_group(arr, patterns):\n",
    "    for patt in patterns:\n",
    "        numpy_iterator = np.nditer(arr, flags=['multi_index', 'refs_ok'], op_flags=['readwrite'])\n",
    "        for cell in numpy_iterator:\n",
    "            if str(cell) != patt:\n",
    "                for val in list(patt):\n",
    "                    cell[...] = str(cell).replace(val,'')\n",
    "\n",
    "for row in range(BOARD_SIZE):\n",
    "    patterns = get_common_patterns(possible[row,:])\n",
    "    if len(patterns):\n",
    "        print(F\"row: {patterns}\")\n",
    "    remove_pattern_from_group(possible[row,:], patterns)\n",
    "for col in range(BOARD_SIZE):\n",
    "    patterns = get_common_patterns(possible[:,col])\n",
    "    if len(patterns):\n",
    "        print(F\"col: {patterns}\")\n",
    "    remove_pattern_from_group(possible[:,col], patterns)\n",
    "for row in range(0,BOARD_SIZE,3):\n",
    "    for col in range(0,BOARD_SIZE,3):\n",
    "        patterns = get_common_patterns(possible[row:row+SECTOR_SIZE,col:col+SECTOR_SIZE])\n",
    "        if len(patterns):\n",
    "            print(F\"sector: {patterns}\")\n",
    "        remove_pattern_from_group(possible[row:row+SECTOR_SIZE,col:col+SECTOR_SIZE], patterns)\n",
    "\n",
    "pretty_flat(possible.flatten())\n",
    "pretty_flat(board.flatten())\n",
    "clean_singletons(board,possible)"
   ]
  },
  {
   "cell_type": "code",
   "execution_count": 375,
   "metadata": {},
   "outputs": [
    {
     "name": "stdout",
     "output_type": "stream",
     "text": [
      "+------------------------+------------------------+------------------------+\n",
      "| 23468     38           |                  236   |          468      46   |\n",
      "| 24568     58           | 25678    267     2567  | 46789    4689          |\n",
      "|  3568    358           |  5678            3567  |  1678    168           |\n",
      "+------------------------+------------------------+------------------------+\n",
      "| 12579             25   |  267     267           |         12569    1679  |\n",
      "| 25789    5789    258   |          267           | 24679   24569    4679  |\n",
      "|   7                    |                        |  127      12           |\n",
      "+------------------------+------------------------+------------------------+\n",
      "|  1678             68   |  167             467   |  1468                  |\n",
      "| 156789  15789    568   | 12567           24567  | 124689  124689   1469  |\n",
      "| 13569    1359          |  1256            256   |  1269            169   |\n",
      "+------------------------+------------------------+------------------------+\n"
     ]
    }
   ],
   "source": [
    "possible[5,0] = '7'\n",
    "pretty_flat(possible.flatten())"
   ]
  }
 ],
 "metadata": {
  "kernelspec": {
   "display_name": "comp642",
   "language": "python",
   "name": "python3"
  },
  "language_info": {
   "codemirror_mode": {
    "name": "ipython",
    "version": 3
   },
   "file_extension": ".py",
   "mimetype": "text/x-python",
   "name": "python",
   "nbconvert_exporter": "python",
   "pygments_lexer": "ipython3",
   "version": "3.9.9"
  },
  "orig_nbformat": 4
 },
 "nbformat": 4,
 "nbformat_minor": 2
}
