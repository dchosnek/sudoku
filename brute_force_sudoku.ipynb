{
 "cells": [
  {
   "cell_type": "markdown",
   "metadata": {},
   "source": [
    "## Brute force solver for Sudoku\n",
    "\n",
    "Brute force is seldom the way to solve a puzzle for which there are well documented algorithms. However, brute force is the simplest way to solve *every* Sudoku puzzle.\n",
    "\n",
    "When solving Sudoku puzzles algorthimicly, some puzzles can be solved with a single algorithm while others require multiple agorithms of varying degree of complexity."
   ]
  },
  {
   "cell_type": "code",
   "execution_count": 1,
   "metadata": {},
   "outputs": [],
   "source": [
    "from collections import Counter"
   ]
  },
  {
   "cell_type": "markdown",
   "metadata": {},
   "source": [
    "### Helper functions"
   ]
  },
  {
   "cell_type": "code",
   "execution_count": 2,
   "metadata": {},
   "outputs": [],
   "source": [
    "def is_cell_invalid(puz,pos):\n",
    "    \"\"\"Validate there are no duplicates at the specified position by checking that \n",
    "    position's row, column, and sector for duplciates.\"\"\"\n",
    "\n",
    "    def check_for_dupes(contents):\n",
    "        \"\"\"Check for duplicates in the specified array. This function does not know\n",
    "        the difference between a row, column, or sector.\"\"\"\n",
    "        counter = Counter(contents)\n",
    "        if counter[0] == 9:\n",
    "            return True\n",
    "        del counter[0]\n",
    "        if counter.most_common(1)[0][1] > 1:\n",
    "            return True\n",
    "        else:\n",
    "            return False\n",
    "\n",
    "    # check this row\n",
    "    row = pos // 9  # integer division determines the row\n",
    "    if check_for_dupes(puz[9*row:9*row+9]):\n",
    "        return True\n",
    "\n",
    "    # check this column\n",
    "    col = pos % 9   # remainder determines column\n",
    "    column_contents = [puz[idy*9+col] for idy in range(9)]\n",
    "    if check_for_dupes(column_contents):\n",
    "        return True\n",
    "    \n",
    "    # check this section; determining the range of values that make up a 3x3 section\n",
    "    # is more complex that determining the row or column\n",
    "    section_start = (row - row % 3) * 9 + (col // 3) * 3\n",
    "    section_contents = [puz[section_start+idc+idr*9] for idc in range(3) for idr in range(3)]\n",
    "    if check_for_dupes(section_contents):\n",
    "        return True\n",
    "    \n",
    "    return False\n",
    "\n",
    "\n",
    "def validate_puzzle(puz):\n",
    "    \"\"\"Validate the entire puzzle has no errors by validating key cells.\"\"\"\n",
    "    for position in [0, 12, 24, 28, 40, 52, 56, 68, 80]:\n",
    "        if is_cell_invalid(puz,position):\n",
    "            return False  \n",
    "    \n",
    "    return True"
   ]
  },
  {
   "cell_type": "code",
   "execution_count": 3,
   "metadata": {},
   "outputs": [],
   "source": [
    "def pprint_puzzle(puzzle):\n",
    "    \"\"\"Pretty print a single single Sudoku board with borders.\"\"\"\n",
    "    my_puz = puzzle.copy()\n",
    "\n",
    "    for idx in range(81):\n",
    "        my_puz[idx] = \" \" if my_puz[idx] == 0 else my_puz[idx]\n",
    "\n",
    "    print(F'+{\"-\"*7}+{\"-\"*7}+{\"-\"*7}+')\n",
    "    for ids in range(3):\n",
    "        for idr in range(3):\n",
    "            row = ids*3 + idr\n",
    "            start = row * 9\n",
    "            print(F'| {my_puz[start]} {my_puz[start+1]} {my_puz[start+2]} ', end='')\n",
    "            print(F'| {my_puz[start+3]} {my_puz[start+4]} {my_puz[start+5]} ', end='')\n",
    "            print(F'| {my_puz[start+6]} {my_puz[start+7]} {my_puz[start+8]} |')\n",
    "\n",
    "        print(F'+{\"-\"*7}+{\"-\"*7}+{\"-\"*7}+')\n",
    "\n",
    "\n",
    "def pprint_dual_puzzles(puzzle1,puzzle2):\n",
    "    \"\"\"Pretty print two Sudoku boards with border side by side.\"\"\"\n",
    "    arr1 = puzzle1.copy()\n",
    "    arr2 = puzzle2.copy()\n",
    "    for idx in range(81):\n",
    "        arr1[idx] = \" \" if arr1[idx] == 0 else arr1[idx]\n",
    "        arr2[idx] = \" \" if arr2[idx] == 0 else arr2[idx]\n",
    "\n",
    "    print(F'+{\"-\"*7}+{\"-\"*7}+{\"-\"*7}+  +{\"-\"*7}+{\"-\"*7}+{\"-\"*7}+')\n",
    "    for ids in range(3):\n",
    "        for idr in range(3):\n",
    "            row = ids*3 + idr\n",
    "            start = row * 9\n",
    "            print(F'| {arr1[start]} {arr1[start+1]} {arr1[start+2]} ', end='')\n",
    "            print(F'| {arr1[start+3]} {arr1[start+4]} {arr1[start+5]} ', end='')\n",
    "            print(F'| {arr1[start+6]} {arr1[start+7]} {arr1[start+8]} |', end='  ')\n",
    "            print(F'| {arr2[start]} {arr2[start+1]} {arr2[start+2]} ', end='')\n",
    "            print(F'| {arr2[start+3]} {arr2[start+4]} {arr2[start+5]} ', end='')\n",
    "            print(F'| {arr2[start+6]} {arr2[start+7]} {arr2[start+8]} |')\n",
    "\n",
    "        print(F'+{\"-\"*7}+{\"-\"*7}+{\"-\"*7}+  +{\"-\"*7}+{\"-\"*7}+{\"-\"*7}+')"
   ]
  },
  {
   "cell_type": "markdown",
   "metadata": {},
   "source": [
    "### Brute force solver"
   ]
  },
  {
   "cell_type": "code",
   "execution_count": 4,
   "metadata": {},
   "outputs": [],
   "source": [
    "def brute_force_solver(puzzle):\n",
    "\n",
    "    history = []\n",
    "    position = 0\n",
    "\n",
    "    while 0 in puzzle:\n",
    "\n",
    "        # find the next empty location without leaving the board\n",
    "        while(position < 80 and puzzle[position] > 0):\n",
    "            position += 1\n",
    "\n",
    "        # the empty position is initialized to 1 before being checked by the\n",
    "        # while loop that follows\n",
    "        puzzle[position] = 1\n",
    "        \n",
    "        # keep incrementing the current location until the puzzle is valid;\n",
    "        # the \"current\" location might be changed by the code inside the loop\n",
    "        while(is_cell_invalid(puzzle,position)):\n",
    "\n",
    "            # if the current value is 9 or greater, then we have run out of guesses\n",
    "            # that could work and one of our previous guesses is actually invalid;\n",
    "            # we must \"erase\" this current position and go back to the last position\n",
    "            # that we set (which might also be a 9, hence the while loop).\n",
    "            # this loop could take us back several guesses\n",
    "            while puzzle[position] >= 9:\n",
    "                puzzle[position] = 0\n",
    "                position = history.pop()    # go back\n",
    "            \n",
    "            # increment the location by 1 and the while loop will check if its valid\n",
    "            puzzle[position] += 1\n",
    "\n",
    "        history.append(position)\n",
    "\n"
   ]
  },
  {
   "cell_type": "code",
   "execution_count": 5,
   "metadata": {},
   "outputs": [
    {
     "name": "stdout",
     "output_type": "stream",
     "text": [
      "+-------+-------+-------+  +-------+-------+-------+\n",
      "| 4     |       |   7 8 |  | 4 5 1 | 9 6 2 | 3 7 8 |\n",
      "| 7     | 1     | 4   9 |  | 7 3 6 | 1 8 5 | 4 2 9 |\n",
      "|     2 | 3 7   |       |  | 9 8 2 | 3 7 4 | 5 6 1 |\n",
      "+-------+-------+-------+  +-------+-------+-------+\n",
      "| 1     | 4   6 |       |  | 1 7 5 | 4 9 6 | 8 3 2 |\n",
      "|   6   |       |       |  | 3 6 9 | 2 1 8 | 7 4 5 |\n",
      "|   4   |   5 3 | 1     |  | 2 4 8 | 7 5 3 | 1 9 6 |\n",
      "+-------+-------+-------+  +-------+-------+-------+\n",
      "|       | 5     |       |  | 6 2 7 | 5 3 1 | 9 8 4 |\n",
      "| 8 1 3 |       |     7 |  | 8 1 3 | 6 4 9 | 2 5 7 |\n",
      "|       |   2   |       |  | 5 9 4 | 8 2 7 | 6 1 3 |\n",
      "+-------+-------+-------+  +-------+-------+-------+\n"
     ]
    }
   ],
   "source": [
    "# medium\n",
    "puzzle = [int(x) for x in list('.29.71..3..8...6..3...5....5.....97......4...4.75.8..1.6.42.3..2..9....6.916...52'.replace('.','0'))]\n",
    "# hard\n",
    "puzzle = [int(x) for x in list('82.5.........3.257...67.9..4.61...3...........5..8419.9.2.1......57...2.......561'.replace('.','0'))]\n",
    "# expert\n",
    "puzzle = [int(x) for x in list('4......787..1..4.9..237....1..4.6....6........4..531.....5.....813.....7....2....'.replace('.','0'))]\n",
    "# evil\n",
    "# puzzle = [int(x) for x in list('9.......4.3..7.69...28......5......1....4...38..7..45.3....9..........1..9..6.57.'.replace('.','0'))]\n",
    "# escargot\n",
    "# puzzle = [int(x) for x in list('1....7.9..3..2...8..96..5....53..9...1..8...26....4...3......1..4......7..7...3..'.replace('.','0'))]\n",
    "\n",
    "original = puzzle.copy()\n",
    "\n",
    "brute_force_solver(puzzle)\n",
    "pprint_dual_puzzles(original,puzzle)\n"
   ]
  },
  {
   "cell_type": "code",
   "execution_count": 6,
   "metadata": {},
   "outputs": [
    {
     "data": {
      "text/plain": [
       "True"
      ]
     },
     "execution_count": 6,
     "metadata": {},
     "output_type": "execute_result"
    }
   ],
   "source": [
    "validate_puzzle(puzzle)"
   ]
  }
 ],
 "metadata": {
  "kernelspec": {
   "display_name": "jupyter",
   "language": "python",
   "name": "python3"
  },
  "language_info": {
   "codemirror_mode": {
    "name": "ipython",
    "version": 3
   },
   "file_extension": ".py",
   "mimetype": "text/x-python",
   "name": "python",
   "nbconvert_exporter": "python",
   "pygments_lexer": "ipython3",
   "version": "3.9.9"
  }
 },
 "nbformat": 4,
 "nbformat_minor": 2
}
